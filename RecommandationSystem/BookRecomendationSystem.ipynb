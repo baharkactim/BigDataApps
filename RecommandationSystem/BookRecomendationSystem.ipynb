{
 "cells": [
  {
   "cell_type": "code",
   "execution_count": 1,
   "metadata": {},
   "outputs": [],
   "source": [
    "%config IPCompleter.greedy=True\n",
    "#import findspark\n",
    "#findspark.init()\n",
    "from pyspark import SparkConf\n",
    "from pyspark import SparkContext\n",
    "from pyspark.sql import SparkSession\n",
    "import pandas as pd\n",
    "import matplotlib.pyplot as plt\n",
    "from pyspark.sql.functions import col, explode\n",
    "from pyspark.mllib.recommendation import ALS, MatrixFactorizationModel, Rating\n",
    "import socket\n",
    "import time"
   ]
  },
  {
   "cell_type": "code",
   "execution_count": 2,
   "metadata": {},
   "outputs": [],
   "source": [
    "conf=SparkConf().setMaster(\"local[*]\").setAppName(\"Recommendation\")\n",
    "sc = SparkContext.getOrCreate(conf=conf)\n",
    "\n",
    "spark = SparkSession.builder.getOrCreate()"
   ]
  },
  {
   "cell_type": "code",
   "execution_count": 3,
   "metadata": {
    "scrolled": true
   },
   "outputs": [
    {
     "name": "stdout",
     "output_type": "stream",
     "text": [
      "+------+----------+--------------------+-------------------+-----------------+--------------------+----------+--------------------+---+\n",
      "|UserID|      ISBN|           BookTitle|         BookAuthor|YearOfPublication|           Publisher|BookRating|            Location|Age|\n",
      "+------+----------+--------------------+-------------------+-----------------+--------------------+----------+--------------------+---+\n",
      "|100009|  60392452|Stupid White Men ...|      Michael Moore|             2002|         Regan Books|       8.0|victoria, british...| 49|\n",
      "|100009|  60977337|Downsize This! Ra...|      Michael Moore|             1997|           Perennial|       9.0|victoria, british...| 49|\n",
      "|100009| 312981589|Robert Ludlum's T...|      Robert Ludlum|             2002|St. Martin's Pape...|       6.0|victoria, british...| 49|\n",
      "|100009| 345391055|          Disclosure|   Michael Crichton|             1994|    Ballantine Books|       0.0|victoria, british...| 49|\n",
      "|100009| 385504209|   The Da Vinci Code|          Dan Brown|             2003|           Doubleday|       8.0|victoria, british...| 49|\n",
      "|100009| 399132414|       Patriot Games|         Tom Clancy|             1987|Putnam Publishing...|       0.0|victoria, british...| 49|\n",
      "|100009| 425179230|Point of Impact (...|        Steve Perry|             2001|Berkley Publishin...|       0.0|victoria, british...| 49|\n",
      "|100009| 440224675|            Hannibal|      Thomas Harris|             2000|Dell Publishing C...|       0.0|victoria, british...| 49|\n",
      "|100009| 441172717|Dune (Remembering...|      Frank Herbert|             1996|         ACE Charter|       9.0|victoria, british...| 49|\n",
      "|100009| 449219364|G Is for Gumshoe ...|        Sue Grafton|             1991|       Fawcett Books|       0.0|victoria, british...| 49|\n",
      "|100009| 679768076|The Chill (Vintag...|     Ross Macdonald|             1996|   Vintage Books USA|       7.0|victoria, british...| 49|\n",
      "|100009| 743412273|        Pet Sematary|       Stephen King|             2001|              Pocket|       0.0|victoria, british...| 49|\n",
      "|100009| 743509862|Hearts In Atlanti...|       Stephen King|             2001|Simon &amp; Schus...|       7.0|victoria, british...| 49|\n",
      "|100009| 786709472|     Blood and Money|    Thomas Thompson|             2001|Carroll &amp; Gra...|      10.0|victoria, british...| 49|\n",
      "|100009| 812524020|Footprints of Thu...|     James F. David|             1997|           Tor Books|       0.0|victoria, british...| 49|\n",
      "|100009| 812543262|               Relic|    Douglas Preston|             2003|           Tor Books|       0.0|victoria, british...| 49|\n",
      "|100009| 888821913|Ghost Stories of ...|Jo-Anne Christensen|             1996|      Hounslow Press|       7.0|victoria, british...| 49|\n",
      "|100009| 968443516|    The Mummy Garden|   Wesley, W. Brick|             1998|       Arrow Designs|       8.0|victoria, british...| 49|\n",
      "|100009|1551668246|Perfect Evil (Mag...|          Alex Kava|             2001|                Mira|       7.0|victoria, british...| 49|\n",
      "|100009|  60502258|The Divine Secret...|      Rebecca Wells|             2002|         HarperTorch|       6.0|victoria, british...| 49|\n",
      "|100009| 312289871|Robert Ludlum's T...|      Robert Ludlum|             2002|St. Martin's Griffin|       0.0|victoria, british...| 49|\n",
      "|100009| 312982518|  The Sigma Protocol|      Robert Ludlum|             2002|St. Martin's Pape...|       8.0|victoria, british...| 49|\n",
      "|100009| 312983654|The Wire in the B...|       Val McDermid|             2002|St. Martin's Mino...|       9.0|victoria, british...| 49|\n",
      "|100009| 345435796|  The First Horseman|          John Case|             1999|    Ballantine Books|       9.0|victoria, british...| 49|\n",
      "|100009| 385479565|        The Hot Zone|    Richard Preston|             1995|              Anchor|       9.0|victoria, british...| 49|\n",
      "+------+----------+--------------------+-------------------+-----------------+--------------------+----------+--------------------+---+\n",
      "only showing top 25 rows\n",
      "\n"
     ]
    }
   ],
   "source": [
    "books = spark.read.csv(\"Books.csv\",header=True)\n",
    "ratings = spark.read.csv(\"Ratings.csv\",header=True)\n",
    "users = spark.read.csv(\"Users.csv\", header=True)\n",
    "\n",
    "books=books.select(\"ISBN\",\"Book-Title\",\"Book-Author\",\"Year-Of-Publication\",\"Publisher\")\n",
    "\n",
    "bookRating = books.join(ratings, on=\"ISBN\")\n",
    "bookRatingUsers = bookRating.join(users, on=\"User-ID\")\n",
    "sqlDf = bookRatingUsers.withColumnRenamed(\"User-ID\",\"UserID\") \\\n",
    "             .withColumnRenamed(\"Book-Title\",\"BookTitle\")\\\n",
    "             .withColumnRenamed(\"Book-Author\",\"BookAuthor\")\\\n",
    "             .withColumnRenamed(\"Year-Of-Publication\",\"YearOfPublication\")\\\n",
    "             .withColumnRenamed(\"Book-Rating\",\"BookRating\")\n",
    "del bookRating, bookRatingUsers, books, ratings, users\n",
    "\n",
    "\n",
    "sqlDf = sqlDf.withColumn(\"UserID\", col(\"UserID\").cast(\"integer\")) \\\n",
    "             .withColumn(\"ISBN\", col(\"ISBN\").cast(\"integer\")) \\\n",
    "             .withColumn(\"BookRating\", col(\"BookRating\").cast(\"float\")) \\\n",
    "             .withColumn(\"Age\", col(\"Age\").cast(\"integer\")) \\\n",
    "             .withColumn(\"YearOfPublication\", col(\"YearOfPublication\").cast(\"integer\"))\n",
    "\n",
    "\n",
    "sqlDf = sqlDf.filter(\"Age > 10\").filter(\"Age < 100\")\n",
    "sqlDf = sqlDf.filter(\"YearOfPublication > 1920\").filter(\"YearOfPublication < 2022\")\n",
    "sqlDf = sqlDf.dropna(subset=(\"UserID\",\"ISBN\",\"BookTitle\",\"BookAuthor\",\"YearOfPublication\",\"Publisher\",\"BookRating\",\"Location\",\"Age\"))\n",
    "\n",
    "\n",
    "pdDf = sqlDf.toPandas()\n",
    "sqlDf.show(25)"
   ]
  },
  {
   "cell_type": "code",
   "execution_count": 4,
   "metadata": {},
   "outputs": [
    {
     "name": "stdout",
     "output_type": "stream",
     "text": [
      "('spark.sql.warehouse.dir', 'file:/home/dilan/Masaüstü/data/spark-warehouse')\n",
      "('spark.app.name', 'Recommendation')\n",
      "('spark.rdd.compress', 'True')\n",
      "('spark.serializer.objectStreamReset', '100')\n",
      "('spark.master', 'local[*]')\n",
      "('spark.submit.pyFiles', '')\n",
      "('spark.executor.id', 'driver')\n",
      "('spark.driver.port', '41623')\n",
      "('spark.submit.deployMode', 'client')\n",
      "('spark.driver.host', '10.0.2.15')\n",
      "('spark.app.id', 'local-1642534855339')\n",
      "('spark.ui.showConsoleProgress', 'true')\n",
      "('spark.app.startTime', '1642534852687')\n",
      "IP Address: 127.0.1.1\n"
     ]
    }
   ],
   "source": [
    "for conf in sc.getConf().getAll():\n",
    "    print(conf)\n",
    "    \n",
    "print(\"IP Address: \" + socket.gethostbyname(socket.gethostname()))"
   ]
  },
  {
   "cell_type": "code",
   "execution_count": 5,
   "metadata": {
    "scrolled": true
   },
   "outputs": [
    {
     "name": "stdout",
     "output_type": "stream",
     "text": [
      "User ID: 100009 |ISBN: 60392452 |Book Title: Stupid White Men ...and Other Sorry Excuses for the State of the Nation! |Book Author: Michael Moore |Year Of Publication: 2002 |Publisher: Regan Books |Book Rating: 8.0 |Location: victoria, british columbia, canada |Age: 49\n",
      "User ID: 100009 |ISBN: 60977337 |Book Title: Downsize This! Random Threats from an Unarmed American |Book Author: Michael Moore |Year Of Publication: 1997 |Publisher: Perennial |Book Rating: 9.0 |Location: victoria, british columbia, canada |Age: 49\n",
      "User ID: 100009 |ISBN: 312981589 |Book Title: Robert Ludlum's The Cassandra Compact (A Covert-One Novel) |Book Author: Robert Ludlum |Year Of Publication: 2002 |Publisher: St. Martin's Paperbacks |Book Rating: 6.0 |Location: victoria, british columbia, canada |Age: 49\n",
      "User ID: 100009 |ISBN: 345391055 |Book Title: Disclosure |Book Author: Michael Crichton |Year Of Publication: 1994 |Publisher: Ballantine Books |Book Rating: 0.0 |Location: victoria, british columbia, canada |Age: 49\n",
      "User ID: 100009 |ISBN: 385504209 |Book Title: The Da Vinci Code |Book Author: Dan Brown |Year Of Publication: 2003 |Publisher: Doubleday |Book Rating: 8.0 |Location: victoria, british columbia, canada |Age: 49\n",
      "User ID: 100009 |ISBN: 399132414 |Book Title: Patriot Games |Book Author: Tom Clancy |Year Of Publication: 1987 |Publisher: Putnam Publishing Group |Book Rating: 0.0 |Location: victoria, british columbia, canada |Age: 49\n",
      "User ID: 100009 |ISBN: 425179230 |Book Title: Point of Impact (Tom Clancy's Net Force (Berkley Publishing Group)) |Book Author: Steve Perry |Year Of Publication: 2001 |Publisher: Berkley Publishing Group |Book Rating: 0.0 |Location: victoria, british columbia, canada |Age: 49\n",
      "User ID: 100009 |ISBN: 440224675 |Book Title: Hannibal |Book Author: Thomas Harris |Year Of Publication: 2000 |Publisher: Dell Publishing Company |Book Rating: 0.0 |Location: victoria, british columbia, canada |Age: 49\n",
      "User ID: 100009 |ISBN: 441172717 |Book Title: Dune (Remembering Tomorrow) |Book Author: Frank Herbert |Year Of Publication: 1996 |Publisher: ACE Charter |Book Rating: 9.0 |Location: victoria, british columbia, canada |Age: 49\n",
      "User ID: 100009 |ISBN: 449219364 |Book Title: G Is for Gumshoe (Kinsey Millhone Mysteries (Paperback)) |Book Author: Sue Grafton |Year Of Publication: 1991 |Publisher: Fawcett Books |Book Rating: 0.0 |Location: victoria, british columbia, canada |Age: 49\n",
      "User ID: 100009 |ISBN: 679768076 |Book Title: The Chill (Vintage Crime/Black Lizard) |Book Author: Ross Macdonald |Year Of Publication: 1996 |Publisher: Vintage Books USA |Book Rating: 7.0 |Location: victoria, british columbia, canada |Age: 49\n",
      "User ID: 100009 |ISBN: 743412273 |Book Title: Pet Sematary |Book Author: Stephen King |Year Of Publication: 2001 |Publisher: Pocket |Book Rating: 0.0 |Location: victoria, british columbia, canada |Age: 49\n",
      "User ID: 100009 |ISBN: 743509862 |Book Title: Hearts In Atlantis (MTI) |Book Author: Stephen King |Year Of Publication: 2001 |Publisher: Simon &amp; Schuster Audio |Book Rating: 7.0 |Location: victoria, british columbia, canada |Age: 49\n",
      "User ID: 100009 |ISBN: 786709472 |Book Title: Blood and Money |Book Author: Thomas Thompson |Year Of Publication: 2001 |Publisher: Carroll &amp; Graf Publishers |Book Rating: 10.0 |Location: victoria, british columbia, canada |Age: 49\n",
      "User ID: 100009 |ISBN: 812524020 |Book Title: Footprints of Thunder |Book Author: James F. David |Year Of Publication: 1997 |Publisher: Tor Books |Book Rating: 0.0 |Location: victoria, british columbia, canada |Age: 49\n",
      "User ID: 100009 |ISBN: 812543262 |Book Title: Relic |Book Author: Douglas Preston |Year Of Publication: 2003 |Publisher: Tor Books |Book Rating: 0.0 |Location: victoria, british columbia, canada |Age: 49\n",
      "User ID: 100009 |ISBN: 888821913 |Book Title: Ghost Stories of British Columbia (The Ghost Stories Series) |Book Author: Jo-Anne Christensen |Year Of Publication: 1996 |Publisher: Hounslow Press |Book Rating: 7.0 |Location: victoria, british columbia, canada |Age: 49\n",
      "User ID: 100009 |ISBN: 968443516 |Book Title: The Mummy Garden |Book Author: Wesley, W. Brick |Year Of Publication: 1998 |Publisher: Arrow Designs |Book Rating: 8.0 |Location: victoria, british columbia, canada |Age: 49\n",
      "User ID: 100009 |ISBN: 1551668246 |Book Title: Perfect Evil (Maggie O'Dell Novels (Paperback)) |Book Author: Alex Kava |Year Of Publication: 2001 |Publisher: Mira |Book Rating: 7.0 |Location: victoria, british columbia, canada |Age: 49\n",
      "User ID: 100009 |ISBN: 60502258 |Book Title: The Divine Secrets of the Ya-Ya Sisterhood: A Novel |Book Author: Rebecca Wells |Year Of Publication: 2002 |Publisher: HarperTorch |Book Rating: 6.0 |Location: victoria, british columbia, canada |Age: 49\n",
      "User ID: 100009 |ISBN: 312289871 |Book Title: Robert Ludlum's The Paris Option : A Covert-One Novel (A Covert-One Novel) |Book Author: Robert Ludlum |Year Of Publication: 2002 |Publisher: St. Martin's Griffin |Book Rating: 0.0 |Location: victoria, british columbia, canada |Age: 49\n",
      "User ID: 100009 |ISBN: 312982518 |Book Title: The Sigma Protocol |Book Author: Robert Ludlum |Year Of Publication: 2002 |Publisher: St. Martin's Paperbacks |Book Rating: 8.0 |Location: victoria, british columbia, canada |Age: 49\n",
      "User ID: 100009 |ISBN: 312983654 |Book Title: The Wire in the Blood (A Dr. Tony Hill &amp; Carol Jordan Mystery) |Book Author: Val McDermid |Year Of Publication: 2002 |Publisher: St. Martin's Minotaur |Book Rating: 9.0 |Location: victoria, british columbia, canada |Age: 49\n",
      "User ID: 100009 |ISBN: 345435796 |Book Title: The First Horseman |Book Author: John Case |Year Of Publication: 1999 |Publisher: Ballantine Books |Book Rating: 9.0 |Location: victoria, british columbia, canada |Age: 49\n",
      "User ID: 100009 |ISBN: 385479565 |Book Title: The Hot Zone |Book Author: Richard Preston |Year Of Publication: 1995 |Publisher: Anchor |Book Rating: 9.0 |Location: victoria, british columbia, canada |Age: 49\n"
     ]
    }
   ],
   "source": [
    "for i in sqlDf.take(25):\n",
    "    print(\"User ID: \" + str(i[\"UserID\"]) + \" |ISBN: \" + str(i[\"ISBN\"]) + \" |Book Title: \" + i[\"BookTitle\"] + \" |Book Author: \" + i[\"BookAuthor\"] + \" |Year Of Publication: \" + str(i[\"YearOfPublication\"]) + \" |Publisher: \" + i[\"Publisher\"] + \" |Book Rating: \" + str(i[\"BookRating\"]) + \" |Location: \" + i[\"Location\"] + \" |Age: \" + str(i[\"Age\"]))"
   ]
  },
  {
   "cell_type": "code",
   "execution_count": 6,
   "metadata": {},
   "outputs": [
    {
     "data": {
      "image/png": "[encoded data removed]",
      "text/plain": [
       "<Figure size 432x288 with 1 Axes>"
      ]
     },
     "metadata": {
      "needs_background": "light"
     },
     "output_type": "display_data"
    }
   ],
   "source": [
    "count = pdDf.groupby(\"BookRating\")[\"UserID\"].count().reset_index()\n",
    "plt.figure()\n",
    "plt.title(\"User Count of Book Rating\")\n",
    "plt.bar(count[\"BookRating\"], count[\"UserID\"])\n",
    "plt.xlabel(\"Ratings\")\n",
    "plt.ylabel(\"User Count\")\n",
    "del count"
   ]
  },
  {
   "cell_type": "code",
   "execution_count": 7,
   "metadata": {},
   "outputs": [
    {
     "data": {
      "text/plain": [
       "<Figure size 432x288 with 0 Axes>"
      ]
     },
     "metadata": {},
     "output_type": "display_data"
    },
    {
     "data": {
      "image/png": "[encoded data removed]",
      "text/plain": [
       "<Figure size 432x288 with 1 Axes>"
      ]
     },
     "metadata": {
      "needs_background": "light"
     },
     "output_type": "display_data"
    }
   ],
   "source": [
    "count = pdDf.groupby(\"Age\")[\"BookRating\"].count().reset_index()\n",
    "plt.figure()\n",
    "count.hist(\"Age\", weights=count[\"BookRating\"] )\n",
    "plt.ylabel(\"BookRating\")\n",
    "plt.show()\n",
    "del count"
   ]
  },
  {
   "cell_type": "code",
   "execution_count": 8,
   "metadata": {},
   "outputs": [
    {
     "data": {
      "text/plain": [
       "<Figure size 432x288 with 0 Axes>"
      ]
     },
     "metadata": {},
     "output_type": "display_data"
    },
    {
     "data": {
      "image/png": "[encoded data removed]",
      "text/plain": [
       "<Figure size 432x288 with 1 Axes>"
      ]
     },
     "metadata": {
      "needs_background": "light"
     },
     "output_type": "display_data"
    }
   ],
   "source": [
    "count = pdDf.groupby(\"YearOfPublication\")[\"ISBN\"].count().reset_index()\n",
    "plt.figure()\n",
    "count.hist(\"YearOfPublication\", weights=count[\"ISBN\"] )\n",
    "plt.ylabel(\"YearOfPublication\")\n",
    "plt.show()\n",
    "del count"
   ]
  },
  {
   "cell_type": "code",
   "execution_count": 9,
   "metadata": {},
   "outputs": [
    {
     "name": "stdout",
     "output_type": "stream",
     "text": [
      "+------+---------+----------+\n",
      "|UserID|     ISBN|BookRating|\n",
      "+------+---------+----------+\n",
      "|100009| 60392452|       8.0|\n",
      "|100009| 60977337|       9.0|\n",
      "|100009|312981589|       6.0|\n",
      "|100009|345391055|       0.0|\n",
      "|100009|385504209|       8.0|\n",
      "|100009|399132414|       0.0|\n",
      "|100009|425179230|       0.0|\n",
      "|100009|440224675|       0.0|\n",
      "|100009|441172717|       9.0|\n",
      "|100009|449219364|       0.0|\n",
      "+------+---------+----------+\n",
      "only showing top 10 rows\n",
      "\n"
     ]
    }
   ],
   "source": [
    "ratings = sqlDf.\\\n",
    "    drop(\"BookTitle\").\\\n",
    "    drop(\"BookAuthor\").\\\n",
    "    drop(\"YearOfPublication\").\\\n",
    "    drop(\"Publisher\").\\\n",
    "    drop(\"Location\").\\\n",
    "    drop(\"Age\")\n",
    "\n",
    "ratings.show(10)"
   ]
  },
  {
   "cell_type": "code",
   "execution_count": 10,
   "metadata": {},
   "outputs": [],
   "source": [
    "(trainDf, testDf) = ratings.randomSplit([0.7, 0.3])\n",
    "train = trainDf.rdd\n",
    "test = testDf.rdd\n",
    "\n",
    "ranks = [10,50,200]\n",
    "iterations = [5,10,15]\n",
    "lambdas = [0.01,0.1]\n",
    "MSEs = []"
   ]
  },
  {
   "cell_type": "code",
   "execution_count": null,
   "metadata": {},
   "outputs": [],
   "source": [
    "for iterationIndex in range(len(iterations)):\n",
    "    for rankIndex in range(len(ranks)):\n",
    "        for lambdaIndex in range(len(lambdas)):\n",
    "            time.sleep(5)\n",
    "            model = ALS.train(ratings=train, rank = ranks[rankIndex], iterations = iterations[iterationIndex], lambda_ = lambdas[lambdaIndex], seed = 5106)\n",
    "            predictions = model.predictAll(test.map(lambda r: ((r[0], r[1])))).map(lambda r: ((r[0], r[1]), r[2]))\n",
    "            ratesAndPreds = test.map(lambda r: ((r[0], r[1]), r[2])).join(predictions)\n",
    "            \n",
    "            mse = ratesAndPreds.map(lambda r: (r[1][0] - r[1][1])**2).mean()\n",
    "            print(\"Rank: \" + str(ranks[rankIndex]) + \" Iteration: \" + str(iterations[iterationIndex]) + \" Lambda: \" + str(lambdas[lambdaIndex]))\n",
    "            print(str(mse))\n",
    "            MSEs.append([\"Rank: \" + str(ranks[rankIndex]) + \"Iteration: \" + str(iterations[iterationIndex]) + \"Lambda: \" + str(lambdas[lambdaIndex]), mse])"
   ]
  },
  {
   "cell_type": "code",
   "execution_count": null,
   "metadata": {},
   "outputs": [],
   "source": [
    "from sklearn.metrics.pairwise import cosine_similarity\n",
    "import numpy as np"
   ]
  },
  {
   "cell_type": "code",
   "execution_count": null,
   "metadata": {},
   "outputs": [],
   "source": [
    "def cosineSimilarity(item_id,a,b):\n",
    "    dot = np.dot(a,b)\n",
    "    norma= np.linalg.norm(a)\n",
    "    normb= np.linalg.norm(b)\n",
    "    cos = dot/(norma * normb)\n",
    "    return item_id, cos"
   ]
  },
  {
   "cell_type": "code",
   "execution_count": null,
   "metadata": {},
   "outputs": [],
   "source": [
    "titles = sqlDf.rdd.map(lambda line: line[:2])\\\n",
    "                    .map(lambda x: (int (x[0]), x[1]))\\\n",
    "                    .collectAsMap()"
   ]
  },
  {
   "cell_type": "code",
   "execution_count": null,
   "metadata": {},
   "outputs": [],
   "source": [
    "item_id=60392452\n",
    "item_vector = model.productFeatures().lookup(item_id)[0]\n",
    "item_vector"
   ]
  },
  {
   "cell_type": "code",
   "execution_count": null,
   "metadata": {},
   "outputs": [],
   "source": [
    "cosineSimilarity(item_id, item_vector, item_vector)"
   ]
  },
  {
   "cell_type": "code",
   "execution_count": null,
   "metadata": {},
   "outputs": [],
   "source": [
    "sims = model.productFeatures().map(lambda data: cosineSimilarity(data[0],data[1]),item_vector)"
   ]
  },
  {
   "cell_type": "code",
   "execution_count": null,
   "metadata": {},
   "outputs": [],
   "source": [
    "sims.top(10,key=lambda x: x[1])"
   ]
  }
 ],
 "metadata": {
  "kernelspec": {
   "display_name": "Python 3",
   "language": "python",
   "name": "python3"
  },
  "language_info": {
   "codemirror_mode": {
    "name": "ipython",
    "version": 3
   },
   "file_extension": ".py",
   "mimetype": "text/x-python",
   "name": "python",
   "nbconvert_exporter": "python",
   "pygments_lexer": "ipython3",
   "version": "3.8.10"
  }
 },
 "nbformat": 4,
 "nbformat_minor": 4
}
